{
 "cells": [
  {
   "cell_type": "code",
   "execution_count": null,
   "id": "6fad5a15-350d-4ebe-9a34-2feb9a5b179c",
   "metadata": {},
   "outputs": [],
   "source": [
    "# Import Libraries \n",
    "import pandas as pd\n",
    "import matplotlib.pyplot as plt\n",
    "import seaborn as sns\n",
    "import os"
   ]
  },
  {
   "cell_type": "code",
   "execution_count": null,
   "id": "a226d8c3-491a-4068-b0ea-ebb81c47a8a6",
   "metadata": {},
   "outputs": [],
   "source": [
    "# Import the file \n",
    "File = r\"C:\\Users\\toloz\\Ironhack\\Week 4\\Project\\first_project\\data\\raw\\ai_job_dataset.csv\"\n",
    "df = pd.read_csv(File) "
   ]
  },
  {
   "cell_type": "code",
   "execution_count": null,
   "id": "dddf61c9-1dd9-4e8d-afa8-9b7f4c5470fc",
   "metadata": {},
   "outputs": [],
   "source": [
    "df.head()"
   ]
  },
  {
   "cell_type": "code",
   "execution_count": null,
   "id": "cbcd625d-d26b-4fb8-811a-b0ee0b9d7939",
   "metadata": {},
   "outputs": [],
   "source": [
    "df.columns"
   ]
  },
  {
   "cell_type": "code",
   "execution_count": null,
   "id": "9cdee608-effe-4010-bcc0-14b09291eda2",
   "metadata": {},
   "outputs": [],
   "source": [
    "for raw in range(len(df.columns)):\n",
    "    raw + 1\n",
    "    print(raw)"
   ]
  },
  {
   "cell_type": "code",
   "execution_count": null,
   "id": "5a2f73fc-3a6f-4f5a-bca0-8cc540f30a76",
   "metadata": {},
   "outputs": [],
   "source": [
    "df.duplicated().sum()"
   ]
  },
  {
   "cell_type": "code",
   "execution_count": null,
   "id": "9d20d30f-9e24-4006-9945-eb4782ef75c2",
   "metadata": {
    "scrolled": true
   },
   "outputs": [],
   "source": [
    "df.isnull().any().sum()"
   ]
  },
  {
   "cell_type": "code",
   "execution_count": null,
   "id": "411a38ee-0123-469d-9103-3f1394a8e2ad",
   "metadata": {},
   "outputs": [],
   "source": [
    "df[[\"salary_currency\",\"salary_usd\"]]"
   ]
  },
  {
   "cell_type": "code",
   "execution_count": null,
   "id": "25b638f1-515d-4715-874c-e21c4f762f8b",
   "metadata": {},
   "outputs": [],
   "source": [
    "df.head()"
   ]
  },
  {
   "cell_type": "code",
   "execution_count": null,
   "id": "b37ee3f4-8522-470a-bee5-358d93d0992e",
   "metadata": {},
   "outputs": [],
   "source": [
    "import os\n",
    "\n",
    "export_folder = r'C:\\Users\\toloz\\Ironhack\\Week 4\\Project\\first_project\\data\\clean'\n",
    "\n",
    "# 1. Employee Table (unique rows + employee_id)\n",
    "employee = (\n",
    "    df[['employee_residence', 'experience_level', 'years_experience']]\n",
    "    .drop_duplicates()\n",
    "    .reset_index(drop=True)\n",
    ")\n",
    "employee['employee_id'] = employee.index + 1\n",
    "\n",
    "# 2. Company Table (unique rows + company_id)\n",
    "company = (\n",
    "    df[['company_location', 'company_name', 'company_size', 'industry']]\n",
    "    .drop_duplicates()\n",
    "    .reset_index(drop=True)\n",
    ")\n",
    "company['company_id'] = company.index + 1\n",
    "\n",
    "# 3. Job Table (copy from original, no changes there)\n",
    "job = df.copy()\n",
    "\n",
    "# Merge job with employee to get employee_id\n",
    "job = job.merge(employee, on=['employee_residence', 'experience_level', 'years_experience'], how='left')\n",
    "\n",
    "# Merge job with company to get company_id\n",
    "job = job.merge(company, on=['company_location', 'company_name', 'company_size', 'industry'], how='left')\n",
    "\n",
    "# Assign job_id\n",
    "job['job_id'] = job.index + 1\n",
    "\n",
    "# Select and reorder columns for job table\n",
    "job = job[['job_id', 'job_title', 'salary_usd', 'education_required', 'employment_type',\n",
    "           'employee_id', 'company_id', 'remote_ratio', 'required_skills',\n",
    "           'salary_currency', 'posting_date', 'benefits_score']]\n",
    "\n",
    "# Export CSVs\n",
    "employee.to_csv(os.path.join(export_folder, 'employee.csv'), index=False, sep=',', encoding='utf-8', lineterminator='\\n')\n",
    "company.to_csv(os.path.join(export_folder, 'company.csv'), index=False, sep=',', encoding='utf-8', lineterminator='\\n')\n",
    "job.to_csv(os.path.join(export_folder, 'job.csv'), index=False, sep=',', encoding='utf-8', lineterminator='\\n')\n"
   ]
  },
  {
   "cell_type": "code",
   "execution_count": null,
   "id": "910ddf7d-0166-47d7-9567-b39697f62af6",
   "metadata": {},
   "outputs": [],
   "source": []
  }
 ],
 "metadata": {
  "kernelspec": {
   "display_name": "venv",
   "language": "python",
   "name": "venv"
  },
  "language_info": {
   "codemirror_mode": {
    "name": "ipython",
    "version": 3
   },
   "file_extension": ".py",
   "mimetype": "text/x-python",
   "name": "python",
   "nbconvert_exporter": "python",
   "pygments_lexer": "ipython3",
   "version": "3.11.5"
  }
 },
 "nbformat": 4,
 "nbformat_minor": 5
}
