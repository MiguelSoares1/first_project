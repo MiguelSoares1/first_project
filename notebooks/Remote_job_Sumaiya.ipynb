{
 "cells": [
  {
   "cell_type": "code",
   "execution_count": 2,
   "id": "111d50e8-0a37-4cf4-ad18-df6aa105bf86",
   "metadata": {},
   "outputs": [
    {
     "data": {
      "text/html": [
       "<div>\n",
       "<style scoped>\n",
       "    .dataframe tbody tr th:only-of-type {\n",
       "        vertical-align: middle;\n",
       "    }\n",
       "\n",
       "    .dataframe tbody tr th {\n",
       "        vertical-align: top;\n",
       "    }\n",
       "\n",
       "    .dataframe thead th {\n",
       "        text-align: right;\n",
       "    }\n",
       "</style>\n",
       "<table border=\"1\" class=\"dataframe\">\n",
       "  <thead>\n",
       "    <tr style=\"text-align: right;\">\n",
       "      <th></th>\n",
       "      <th>Survey_Date</th>\n",
       "      <th>Age</th>\n",
       "      <th>Gender</th>\n",
       "      <th>Region</th>\n",
       "      <th>Industry</th>\n",
       "      <th>Job_Role</th>\n",
       "      <th>Work_Arrangement</th>\n",
       "      <th>Hours_Per_Week</th>\n",
       "      <th>Mental_Health_Status</th>\n",
       "      <th>Burnout_Level</th>\n",
       "      <th>Work_Life_Balance_Score</th>\n",
       "      <th>Physical_Health_Issues</th>\n",
       "      <th>Social_Isolation_Score</th>\n",
       "      <th>Salary_Range</th>\n",
       "    </tr>\n",
       "  </thead>\n",
       "  <tbody>\n",
       "    <tr>\n",
       "      <th>0</th>\n",
       "      <td>2025-06-01</td>\n",
       "      <td>27</td>\n",
       "      <td>Female</td>\n",
       "      <td>Asia</td>\n",
       "      <td>Professional Services</td>\n",
       "      <td>Data Analyst</td>\n",
       "      <td>Onsite</td>\n",
       "      <td>64</td>\n",
       "      <td>Stress Disorder</td>\n",
       "      <td>High</td>\n",
       "      <td>3</td>\n",
       "      <td>Shoulder Pain; Neck Pain</td>\n",
       "      <td>2</td>\n",
       "      <td>$40K-60K</td>\n",
       "    </tr>\n",
       "    <tr>\n",
       "      <th>1</th>\n",
       "      <td>2025-06-01</td>\n",
       "      <td>37</td>\n",
       "      <td>Female</td>\n",
       "      <td>Asia</td>\n",
       "      <td>Professional Services</td>\n",
       "      <td>Data Analyst</td>\n",
       "      <td>Onsite</td>\n",
       "      <td>37</td>\n",
       "      <td>Stress Disorder</td>\n",
       "      <td>High</td>\n",
       "      <td>4</td>\n",
       "      <td>Back Pain</td>\n",
       "      <td>2</td>\n",
       "      <td>$80K-100K</td>\n",
       "    </tr>\n",
       "    <tr>\n",
       "      <th>2</th>\n",
       "      <td>2025-06-01</td>\n",
       "      <td>32</td>\n",
       "      <td>Female</td>\n",
       "      <td>Africa</td>\n",
       "      <td>Education</td>\n",
       "      <td>Business Analyst</td>\n",
       "      <td>Onsite</td>\n",
       "      <td>36</td>\n",
       "      <td>ADHD</td>\n",
       "      <td>High</td>\n",
       "      <td>3</td>\n",
       "      <td>Shoulder Pain; Eye Strain</td>\n",
       "      <td>2</td>\n",
       "      <td>$80K-100K</td>\n",
       "    </tr>\n",
       "    <tr>\n",
       "      <th>3</th>\n",
       "      <td>2025-06-01</td>\n",
       "      <td>40</td>\n",
       "      <td>Female</td>\n",
       "      <td>Europe</td>\n",
       "      <td>Education</td>\n",
       "      <td>Data Analyst</td>\n",
       "      <td>Onsite</td>\n",
       "      <td>63</td>\n",
       "      <td>ADHD</td>\n",
       "      <td>Medium</td>\n",
       "      <td>1</td>\n",
       "      <td>Shoulder Pain; Eye Strain</td>\n",
       "      <td>2</td>\n",
       "      <td>$60K-80K</td>\n",
       "    </tr>\n",
       "    <tr>\n",
       "      <th>4</th>\n",
       "      <td>2025-06-01</td>\n",
       "      <td>30</td>\n",
       "      <td>Male</td>\n",
       "      <td>South America</td>\n",
       "      <td>Manufacturing</td>\n",
       "      <td>DevOps Engineer</td>\n",
       "      <td>Hybrid</td>\n",
       "      <td>65</td>\n",
       "      <td>NaN</td>\n",
       "      <td>Medium</td>\n",
       "      <td>5</td>\n",
       "      <td>NaN</td>\n",
       "      <td>4</td>\n",
       "      <td>$60K-80K</td>\n",
       "    </tr>\n",
       "  </tbody>\n",
       "</table>\n",
       "</div>"
      ],
      "text/plain": [
       "  Survey_Date  Age  Gender         Region               Industry  \\\n",
       "0  2025-06-01   27  Female           Asia  Professional Services   \n",
       "1  2025-06-01   37  Female           Asia  Professional Services   \n",
       "2  2025-06-01   32  Female         Africa              Education   \n",
       "3  2025-06-01   40  Female         Europe              Education   \n",
       "4  2025-06-01   30    Male  South America          Manufacturing   \n",
       "\n",
       "           Job_Role Work_Arrangement  Hours_Per_Week Mental_Health_Status  \\\n",
       "0      Data Analyst           Onsite              64      Stress Disorder   \n",
       "1      Data Analyst           Onsite              37      Stress Disorder   \n",
       "2  Business Analyst           Onsite              36                 ADHD   \n",
       "3      Data Analyst           Onsite              63                 ADHD   \n",
       "4   DevOps Engineer           Hybrid              65                  NaN   \n",
       "\n",
       "  Burnout_Level  Work_Life_Balance_Score     Physical_Health_Issues  \\\n",
       "0          High                        3   Shoulder Pain; Neck Pain   \n",
       "1          High                        4                  Back Pain   \n",
       "2          High                        3  Shoulder Pain; Eye Strain   \n",
       "3        Medium                        1  Shoulder Pain; Eye Strain   \n",
       "4        Medium                        5                        NaN   \n",
       "\n",
       "   Social_Isolation_Score Salary_Range  \n",
       "0                       2     $40K-60K  \n",
       "1                       2    $80K-100K  \n",
       "2                       2    $80K-100K  \n",
       "3                       2     $60K-80K  \n",
       "4                       4     $60K-80K  "
      ]
     },
     "execution_count": 2,
     "metadata": {},
     "output_type": "execute_result"
    }
   ],
   "source": [
    "import pandas as pd\n",
    "import seaborn as sns\n",
    "import matplotlib.pyplot as plt\n",
    "from pathlib import Path\n",
    "\n",
    "\n",
    "\n",
    "# Specify encoding when reading the CSV files\n",
    "# Common encodings to try: 'latin1', 'ISO-8859-1', 'cp1252'\n",
    "df = pd.read_csv('../data/raw/health_impact_2025.csv')\n",
    "\n",
    "df.head()"
   ]
  },
  {
   "cell_type": "code",
   "execution_count": 3,
   "id": "7dc6ef7f-844d-4785-92e4-2d75dff1540a",
   "metadata": {},
   "outputs": [
    {
     "name": "stdout",
     "output_type": "stream",
     "text": [
      "<class 'pandas.core.frame.DataFrame'>\n",
      "RangeIndex: 3157 entries, 0 to 3156\n",
      "Data columns (total 14 columns):\n",
      " #   Column                   Non-Null Count  Dtype \n",
      "---  ------                   --------------  ----- \n",
      " 0   Survey_Date              3157 non-null   object\n",
      " 1   Age                      3157 non-null   int64 \n",
      " 2   Gender                   3157 non-null   object\n",
      " 3   Region                   3157 non-null   object\n",
      " 4   Industry                 3157 non-null   object\n",
      " 5   Job_Role                 3157 non-null   object\n",
      " 6   Work_Arrangement         3157 non-null   object\n",
      " 7   Hours_Per_Week           3157 non-null   int64 \n",
      " 8   Mental_Health_Status     2358 non-null   object\n",
      " 9   Burnout_Level            3157 non-null   object\n",
      " 10  Work_Life_Balance_Score  3157 non-null   int64 \n",
      " 11  Physical_Health_Issues   2877 non-null   object\n",
      " 12  Social_Isolation_Score   3157 non-null   int64 \n",
      " 13  Salary_Range             3157 non-null   object\n",
      "dtypes: int64(4), object(10)\n",
      "memory usage: 345.4+ KB\n"
     ]
    }
   ],
   "source": [
    "df.info()"
   ]
  },
  {
   "cell_type": "code",
   "execution_count": 4,
   "id": "b217feda-18d1-4ed6-84d8-e5d2b29da889",
   "metadata": {},
   "outputs": [
    {
     "data": {
      "text/plain": [
       "RangeIndex(start=0, stop=3157, step=1)"
      ]
     },
     "execution_count": 4,
     "metadata": {},
     "output_type": "execute_result"
    }
   ],
   "source": [
    "df.index"
   ]
  },
  {
   "cell_type": "code",
   "execution_count": 5,
   "id": "7af331f9-47fb-49a6-ac44-582c088c9d6c",
   "metadata": {},
   "outputs": [
    {
     "name": "stdout",
     "output_type": "stream",
     "text": [
      "Index(['Survey_Date', 'Age', 'Gender', 'Region', 'Industry', 'Job_Role',\n",
      "       'Work_Arrangement', 'Hours_Per_Week', 'Mental_Health_Status',\n",
      "       'Burnout_Level', 'Work_Life_Balance_Score', 'Physical_Health_Issues',\n",
      "       'Social_Isolation_Score', 'Salary_Range'],\n",
      "      dtype='object')\n"
     ]
    }
   ],
   "source": [
    "df.columns\n",
    "print(df.columns)"
   ]
  },
  {
   "cell_type": "code",
   "execution_count": 6,
   "id": "22c63445-bd97-4d77-a2a0-2143f885e6ec",
   "metadata": {},
   "outputs": [
    {
     "data": {
      "text/plain": [
       "Survey_Date                  0\n",
       "Age                          0\n",
       "Gender                       0\n",
       "Region                       0\n",
       "Industry                     0\n",
       "Job_Role                     0\n",
       "Work_Arrangement             0\n",
       "Hours_Per_Week               0\n",
       "Mental_Health_Status       799\n",
       "Burnout_Level                0\n",
       "Work_Life_Balance_Score      0\n",
       "Physical_Health_Issues     280\n",
       "Social_Isolation_Score       0\n",
       "Salary_Range                 0\n",
       "dtype: int64"
      ]
     },
     "execution_count": 6,
     "metadata": {},
     "output_type": "execute_result"
    }
   ],
   "source": [
    "df.duplicated().sum()\n",
    "df.isna().sum()"
   ]
  },
  {
   "cell_type": "code",
   "execution_count": 7,
   "id": "d9226ef8-5ae9-487b-a53b-e8c82287a502",
   "metadata": {},
   "outputs": [],
   "source": [
    "def clean_all_columns(df):\n",
    "    # Import numpy for NaN values\n",
    "    import numpy as np\n",
    "    \n",
    "    # Loop through all columns in the dataframe\n",
    "    for column in df.columns:\n",
    "        # Convert column to string type\n",
    "        df[column] = df[column].astype(str)\n",
    "        # Strip whitespace and convert to uppercase\n",
    "        df[column] = df[column].str.strip().str.upper()\n",
    "        # Replace column name with NaN (assuming column names might be in the data)\n",
    "        df[column] = df[column].replace(column.upper(), np.nan)\n",
    "        # Also replace 'NAN' string with actual NaN value\n",
    "        df[column] = df[column].replace('NAN', np.nan)\n",
    "    \n",
    "    return df\n",
    "\n",
    "# Clean all columns\n",
    "df = clean_all_columns(df)\n",
    "\n",
    "# Example of checking unique values in a specific column\n"
   ]
  },
  {
   "cell_type": "code",
   "execution_count": 9,
   "id": "4755d7e0-5326-4012-8272-b2d5fa2b65a7",
   "metadata": {},
   "outputs": [
    {
     "name": "stdout",
     "output_type": "stream",
     "text": [
      "['ACCOUNT MANAGER', 'BUSINESS ANALYST', 'CONSULTANT', 'CONTENT WRITER', 'CUSTOMER SERVICE MANAGER', 'DATA ANALYST', 'DATA SCIENTIST', 'DEVOPS ENGINEER', 'DIGITAL MARKETING SPECIALIST', 'EXECUTIVE ASSISTANT', 'FINANCIAL ANALYST', 'HR MANAGER', 'IT SUPPORT', 'MARKETING SPECIALIST', 'OPERATIONS MANAGER', 'PRODUCT MANAGER', 'PROJECT MANAGER', 'QUALITY ASSURANCE', 'RESEARCH SCIENTIST', 'SALES REPRESENTATIVE', 'SOCIAL MEDIA MANAGER', 'SOFTWARE ENGINEER', 'TECHNICAL WRITER', 'UX DESIGNER']\n"
     ]
    }
   ],
   "source": [
    "print(sorted(df['Job_Role'].dropna().unique()))"
   ]
  },
  {
   "cell_type": "code",
   "execution_count": 10,
   "id": "fe8a3414-a507-4d84-b380-c201d336025f",
   "metadata": {},
   "outputs": [
    {
     "name": "stdout",
     "output_type": "stream",
     "text": [
      "['ADHD', 'ANXIETY', 'BURNOUT', 'DEPRESSION', 'PTSD', 'STRESS DISORDER']\n"
     ]
    }
   ],
   "source": [
    "print(sorted(df['Mental_Health_Status'].dropna().unique()))"
   ]
  },
  {
   "cell_type": "code",
   "execution_count": 11,
   "id": "b18aac9b-b05d-4746-889f-0e9aab47d088",
   "metadata": {},
   "outputs": [
    {
     "name": "stdout",
     "output_type": "stream",
     "text": [
      "['1', '2', '3', '4', '5']\n"
     ]
    }
   ],
   "source": [
    "print(sorted(df['Work_Life_Balance_Score'].dropna().unique()))"
   ]
  },
  {
   "cell_type": "code",
   "execution_count": 12,
   "id": "2fe7cb73-c83b-4491-8df0-544344aaf04c",
   "metadata": {},
   "outputs": [
    {
     "name": "stdout",
     "output_type": "stream",
     "text": [
      "['BACK PAIN', 'BACK PAIN; EYE STRAIN', 'BACK PAIN; EYE STRAIN; NECK PAIN', 'BACK PAIN; EYE STRAIN; NECK PAIN; WRIST PAIN', 'BACK PAIN; EYE STRAIN; WRIST PAIN', 'BACK PAIN; NECK PAIN', 'BACK PAIN; NECK PAIN; WRIST PAIN', 'BACK PAIN; SHOULDER PAIN', 'BACK PAIN; SHOULDER PAIN; EYE STRAIN', 'BACK PAIN; SHOULDER PAIN; EYE STRAIN; NECK PAIN', 'BACK PAIN; SHOULDER PAIN; EYE STRAIN; NECK PAIN; WRIST PAIN', 'BACK PAIN; SHOULDER PAIN; EYE STRAIN; WRIST PAIN', 'BACK PAIN; SHOULDER PAIN; NECK PAIN', 'BACK PAIN; SHOULDER PAIN; NECK PAIN; WRIST PAIN', 'BACK PAIN; SHOULDER PAIN; WRIST PAIN', 'BACK PAIN; WRIST PAIN', 'EYE STRAIN', 'EYE STRAIN; NECK PAIN', 'EYE STRAIN; NECK PAIN; WRIST PAIN', 'EYE STRAIN; WRIST PAIN', 'NECK PAIN', 'NECK PAIN; WRIST PAIN', 'SHOULDER PAIN', 'SHOULDER PAIN; EYE STRAIN', 'SHOULDER PAIN; EYE STRAIN; NECK PAIN', 'SHOULDER PAIN; EYE STRAIN; NECK PAIN; WRIST PAIN', 'SHOULDER PAIN; EYE STRAIN; WRIST PAIN', 'SHOULDER PAIN; NECK PAIN', 'SHOULDER PAIN; NECK PAIN; WRIST PAIN', 'SHOULDER PAIN; WRIST PAIN', 'WRIST PAIN']\n"
     ]
    }
   ],
   "source": [
    "print(sorted(df['Physical_Health_Issues'].dropna().unique()))"
   ]
  },
  {
   "cell_type": "code",
   "execution_count": null,
   "id": "378c2d8b-3b39-45de-b084-42e62cf4f552",
   "metadata": {},
   "outputs": [],
   "source": []
  }
 ],
 "metadata": {
  "kernelspec": {
   "display_name": "venv",
   "language": "python",
   "name": "venv"
  },
  "language_info": {
   "codemirror_mode": {
    "name": "ipython",
    "version": 3
   },
   "file_extension": ".py",
   "mimetype": "text/x-python",
   "name": "python",
   "nbconvert_exporter": "python",
   "pygments_lexer": "ipython3",
   "version": "3.13.2"
  }
 },
 "nbformat": 4,
 "nbformat_minor": 5
}
