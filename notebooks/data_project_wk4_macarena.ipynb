{
 "cells": [
  {
   "cell_type": "code",
   "execution_count": null,
   "id": "3139a729-51c2-4be0-81fc-56d6f45908be",
   "metadata": {},
   "outputs": [],
   "source": [
    "import pandas as pd\n",
    "import seaborn as sns\n",
    "import matplotlib.pyplot as plt\n",
    "\n",
    "#url from Kaggle. Load the data from the file\n",
    "data_path = '../data/raw/ai_job_dataset.csv'\n",
    "df = pd.read_csv(data_path)\n"
   ]
  },
  {
   "cell_type": "code",
   "execution_count": null,
   "id": "0b2ab320",
   "metadata": {},
   "outputs": [],
   "source": [
    "# Display first few rows of the dataframe\n",
    "#To know cols and rows, dimensions of DF\n",
    "df.shape\n",
    "print('Dataset shape:', df.shape)\n",
    "\n",
    "#first rows && last rows. To see how the data is in DF (dtypes)\n",
    "df.head()\n",
    "df.info()\n",
    "df.dtypes"
   ]
  },
  {
   "cell_type": "code",
   "execution_count": null,
   "id": "f2042119",
   "metadata": {},
   "outputs": [],
   "source": [
    "#Hyphothesis\n",
    "#education_required, experience_levelm salary_usd, required_skills, job_tittle, posting_date, company_location, benefits_score"
   ]
  },
  {
   "cell_type": "code",
   "execution_count": null,
   "id": "fe3a2dde",
   "metadata": {},
   "outputs": [],
   "source": [
    "#To see if there is any null value\n",
    "print('Null values: ', df.isnull().sum())\n",
    "\n",
    "#To see if there is any duplicated value\n",
    "print('df.duplicateds: ', df.duplicated().sum())\n",
    "\n",
    "#to see duplicates one by one\n",
    "#print('education_required duplicates: ', df.duplicated(subset='education_required'))\n",
    "#print('years_experience duplicates: ', df.duplicated(subset='years_experience'))"
   ]
  },
  {
   "cell_type": "code",
   "execution_count": null,
   "id": "f0dd5674",
   "metadata": {},
   "outputs": [],
   "source": [
    "#Combining and structuring data\n",
    "#education_required, experience_level, salary_usd, required_skills, job_tittle, posting_date, company_location, benefits_score\n",
    "new_df = pd.concat([df.education_required, df.experience_level, df.salary_usd, df.required_skills, df.job_title, df.posting_date, df.company_location, df.benefits_score ], axis=1)\n",
    "display(new_df)"
   ]
  },
  {
   "cell_type": "code",
   "execution_count": null,
   "id": "9aaa0019",
   "metadata": {},
   "outputs": [],
   "source": [
    "#mode_val_education= df['education_required'].mode()\n",
    "#print(\"The education required most common is (mode): \", mode_val_education)\n",
    "\n",
    "#job_tittle = df['job_title'].mode()\n",
    "#print(\"The job tittle most frequent is: \", job_tittle)\n",
    "\n",
    "#Get the mode for each column\n",
    "for column in [\"education_required\", \"experience_level\", \"salary_usd\", \"required_skills\", \"job_title\", \"posting_date\", \"company_location\", \"benefits_score\"]:\n",
    "    \n",
    "    mode = df[column].mode()\n",
    "    print(f\"Mode for {column}: {mode.tolist()}\")\n",
    "   \n",
    "\n"
   ]
  },
  {
   "cell_type": "code",
   "execution_count": null,
   "id": "2180cb0f",
   "metadata": {},
   "outputs": [],
   "source": [
    "# matplot and seaborn\n",
    "import seaborn as sns\n",
    "import matplotlib.pyplot as plt\n",
    "\n",
    "#education_required, experience_level, salary_usd, required_skills, job_tittle, posting_date, company_location, benefits_score\n",
    "\n",
    "#DISTRIBUTION OF SALARIES (USD)\n",
    "plt.figure(figsize=(8, 5))\n",
    "plt.hist(new_df['salary_usd'], bins=32, color='green', edgecolor='black')\n",
    "plt.title('Distribution of Salaries (USD)')\n",
    "plt.xlabel('Salary (USD)')\n",
    "plt.ylabel('Frequency')\n",
    "plt.grid(True)\n",
    "plt.show()"
   ]
  },
  {
   "cell_type": "code",
   "execution_count": null,
   "id": "105c0cc4",
   "metadata": {},
   "outputs": [],
   "source": [
    "import seaborn as sns\n",
    "\n",
    "#BOXPLOT OF SALARY BY EXPERIENCE LEVEL\n",
    "plt.figure(figsize=(10, 6))\n",
    "sns.boxplot(x='experience_level', y='salary_usd', data=new_df)\n",
    "plt.title('Salary Distribution by Experience Level')\n",
    "plt.xlabel('Experience Level')\n",
    "plt.ylabel('Salary (USD)')\n",
    "plt.show()"
   ]
  },
  {
   "cell_type": "code",
   "execution_count": null,
   "id": "0f792638",
   "metadata": {},
   "outputs": [],
   "source": [
    "#BAR CHART: AVERAGE SALARY BY EDUCATION LEVEL\n",
    "avg_salary = new_df.groupby('education_required')['salary_usd'].mean()\n",
    "plt.figure(figsize=(6,4))\n",
    "avg_salary.plot(kind='bar', color='orange')\n",
    "plt.title('Average Salary by Education Level')\n",
    "plt.xlabel('Education Required')\n",
    "plt.ylabel('Average Salary (USD)')\n",
    "plt.xticks(rotation=45)\n",
    "plt.grid(axis='y')\n",
    "plt.show()"
   ]
  },
  {
   "cell_type": "code",
   "execution_count": null,
   "id": "83719111",
   "metadata": {},
   "outputs": [],
   "source": [
    "#JOB TITLE\n",
    "# Count occurrences of each location\n",
    "location_counts = new_df['job_title'].value_counts()\n",
    "\n",
    "# Create pie chart\n",
    "plt.figure(figsize=(8, 6))\n",
    "plt.pie(location_counts, labels=location_counts.index, autopct='%1.1f%%', startangle=140)\n",
    "plt.title('Job tittle')\n",
    "plt.axis('equal')  # Keep it circular\n",
    "plt.show()"
   ]
  },
  {
   "cell_type": "code",
   "execution_count": null,
   "id": "e18df23c",
   "metadata": {},
   "outputs": [],
   "source": [
    "#SALARY TREND BY POSTING DATE\n",
    "new_df['posting_date'] = pd.to_datetime(new_df['posting_date'])\n",
    "\n",
    "# Group by date\n",
    "daily_salary = new_df.groupby('posting_date')['salary_usd'].mean()\n",
    "\n",
    "plt.figure(figsize=(12, 5))\n",
    "plt.plot(daily_salary.index, daily_salary.values, color='green')\n",
    "plt.title('Average Salary Over Time')\n",
    "plt.xlabel('Date')\n",
    "plt.ylabel('Average Salary (USD)')\n",
    "plt.grid(True)\n",
    "plt.tight_layout()\n",
    "plt.show()"
   ]
  },
  {
   "cell_type": "code",
   "execution_count": null,
   "id": "767035d7",
   "metadata": {},
   "outputs": [],
   "source": [
    "#COMPANY LOCATIONS\n",
    "# Count occurrences of each location\n",
    "location_counts = new_df['company_location'].value_counts()\n",
    "\n",
    "# Create pie chart\n",
    "plt.figure(figsize=(8, 6))\n",
    "plt.pie(location_counts, labels=location_counts.index, autopct='%1.1f%%', startangle=140)\n",
    "plt.title('Company Location Distribution')\n",
    "plt.axis('equal')  # Keep it circular\n",
    "plt.show()\n",
    "\n"
   ]
  },
  {
   "cell_type": "code",
   "execution_count": null,
   "id": "3455b943",
   "metadata": {},
   "outputs": [],
   "source": [
    "#REQUIRED SKILLS\n",
    "# Count occurrences of each skill\n",
    "skills_counts = new_df['required_skills'].value_counts()\n",
    "\n",
    "# Create pie chart\n",
    "plt.figure(figsize=(8, 6))\n",
    "plt.pie(skills_counts, labels=location_counts.index, autopct='%1.1f%%', startangle=140)\n",
    "plt.title('REQUIRED SKILLS')\n",
    "plt.axis('equal')  # Keep it circular\n",
    "plt.show()"
   ]
  }
 ],
 "metadata": {
  "kernelspec": {
   "display_name": "venv",
   "language": "python",
   "name": "venv"
  },
  "language_info": {
   "codemirror_mode": {
    "name": "ipython",
    "version": 3
   },
   "file_extension": ".py",
   "mimetype": "text/x-python",
   "name": "python",
   "nbconvert_exporter": "python",
   "pygments_lexer": "ipython3",
   "version": "3.13.5"
  }
 },
 "nbformat": 4,
 "nbformat_minor": 5
}
