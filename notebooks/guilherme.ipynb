{
 "cells": [
  {
   "cell_type": "code",
   "execution_count": 1,
   "id": "7676334e-336b-4e6f-9b5d-b6cff7377fce",
   "metadata": {},
   "outputs": [],
   "source": [
    "import pandas as pd"
   ]
  },
  {
   "cell_type": "code",
   "execution_count": 2,
   "id": "091b4f8b-7005-4bd8-8cec-fb7d097a436f",
   "metadata": {},
   "outputs": [
    {
     "ename": "FileNotFoundError",
     "evalue": "[Errno 2] No such file or directory: 'C:\\\\Users\\\\User\\\\Desktop\\\\IronHack\\\\Week_4\\\\Project\\\\first_project\\\\data\\\\raw\\\\ai_job_dataset.csv'",
     "output_type": "error",
     "traceback": [
      "\u001b[31m---------------------------------------------------------------------------\u001b[39m",
      "\u001b[31mFileNotFoundError\u001b[39m                         Traceback (most recent call last)",
      "\u001b[36mCell\u001b[39m\u001b[36m \u001b[39m\u001b[32mIn[2]\u001b[39m\u001b[32m, line 1\u001b[39m\n\u001b[32m----> \u001b[39m\u001b[32m1\u001b[39m ai_job = \u001b[43mpd\u001b[49m\u001b[43m.\u001b[49m\u001b[43mread_csv\u001b[49m\u001b[43m(\u001b[49m\u001b[33;43mr\u001b[39;49m\u001b[33;43m\"\u001b[39;49m\u001b[33;43mC:\u001b[39;49m\u001b[33;43m\\\u001b[39;49m\u001b[33;43mUsers\u001b[39;49m\u001b[33;43m\\\u001b[39;49m\u001b[33;43mUser\u001b[39;49m\u001b[33;43m\\\u001b[39;49m\u001b[33;43mDesktop\u001b[39;49m\u001b[33;43m\\\u001b[39;49m\u001b[33;43mIronHack\u001b[39;49m\u001b[33;43m\\\u001b[39;49m\u001b[33;43mWeek_4\u001b[39;49m\u001b[33;43m\\\u001b[39;49m\u001b[33;43mProject\u001b[39;49m\u001b[33;43m\\\u001b[39;49m\u001b[33;43mfirst_project\u001b[39;49m\u001b[33;43m\\\u001b[39;49m\u001b[33;43mdata\u001b[39;49m\u001b[33;43m\\\u001b[39;49m\u001b[33;43mraw\u001b[39;49m\u001b[33;43m\\\u001b[39;49m\u001b[33;43mai_job_dataset.csv\u001b[39;49m\u001b[33;43m\"\u001b[39;49m\u001b[43m)\u001b[49m\n",
      "\u001b[36mFile \u001b[39m\u001b[32m~\\Desktop\\Ironhack\\Week_4\\Project\\first_project\\.venv\\Lib\\site-packages\\pandas\\io\\parsers\\readers.py:1026\u001b[39m, in \u001b[36mread_csv\u001b[39m\u001b[34m(filepath_or_buffer, sep, delimiter, header, names, index_col, usecols, dtype, engine, converters, true_values, false_values, skipinitialspace, skiprows, skipfooter, nrows, na_values, keep_default_na, na_filter, verbose, skip_blank_lines, parse_dates, infer_datetime_format, keep_date_col, date_parser, date_format, dayfirst, cache_dates, iterator, chunksize, compression, thousands, decimal, lineterminator, quotechar, quoting, doublequote, escapechar, comment, encoding, encoding_errors, dialect, on_bad_lines, delim_whitespace, low_memory, memory_map, float_precision, storage_options, dtype_backend)\u001b[39m\n\u001b[32m   1013\u001b[39m kwds_defaults = _refine_defaults_read(\n\u001b[32m   1014\u001b[39m     dialect,\n\u001b[32m   1015\u001b[39m     delimiter,\n\u001b[32m   (...)\u001b[39m\u001b[32m   1022\u001b[39m     dtype_backend=dtype_backend,\n\u001b[32m   1023\u001b[39m )\n\u001b[32m   1024\u001b[39m kwds.update(kwds_defaults)\n\u001b[32m-> \u001b[39m\u001b[32m1026\u001b[39m \u001b[38;5;28;01mreturn\u001b[39;00m \u001b[43m_read\u001b[49m\u001b[43m(\u001b[49m\u001b[43mfilepath_or_buffer\u001b[49m\u001b[43m,\u001b[49m\u001b[43m \u001b[49m\u001b[43mkwds\u001b[49m\u001b[43m)\u001b[49m\n",
      "\u001b[36mFile \u001b[39m\u001b[32m~\\Desktop\\Ironhack\\Week_4\\Project\\first_project\\.venv\\Lib\\site-packages\\pandas\\io\\parsers\\readers.py:620\u001b[39m, in \u001b[36m_read\u001b[39m\u001b[34m(filepath_or_buffer, kwds)\u001b[39m\n\u001b[32m    617\u001b[39m _validate_names(kwds.get(\u001b[33m\"\u001b[39m\u001b[33mnames\u001b[39m\u001b[33m\"\u001b[39m, \u001b[38;5;28;01mNone\u001b[39;00m))\n\u001b[32m    619\u001b[39m \u001b[38;5;66;03m# Create the parser.\u001b[39;00m\n\u001b[32m--> \u001b[39m\u001b[32m620\u001b[39m parser = \u001b[43mTextFileReader\u001b[49m\u001b[43m(\u001b[49m\u001b[43mfilepath_or_buffer\u001b[49m\u001b[43m,\u001b[49m\u001b[43m \u001b[49m\u001b[43m*\u001b[49m\u001b[43m*\u001b[49m\u001b[43mkwds\u001b[49m\u001b[43m)\u001b[49m\n\u001b[32m    622\u001b[39m \u001b[38;5;28;01mif\u001b[39;00m chunksize \u001b[38;5;129;01mor\u001b[39;00m iterator:\n\u001b[32m    623\u001b[39m     \u001b[38;5;28;01mreturn\u001b[39;00m parser\n",
      "\u001b[36mFile \u001b[39m\u001b[32m~\\Desktop\\Ironhack\\Week_4\\Project\\first_project\\.venv\\Lib\\site-packages\\pandas\\io\\parsers\\readers.py:1620\u001b[39m, in \u001b[36mTextFileReader.__init__\u001b[39m\u001b[34m(self, f, engine, **kwds)\u001b[39m\n\u001b[32m   1617\u001b[39m     \u001b[38;5;28mself\u001b[39m.options[\u001b[33m\"\u001b[39m\u001b[33mhas_index_names\u001b[39m\u001b[33m\"\u001b[39m] = kwds[\u001b[33m\"\u001b[39m\u001b[33mhas_index_names\u001b[39m\u001b[33m\"\u001b[39m]\n\u001b[32m   1619\u001b[39m \u001b[38;5;28mself\u001b[39m.handles: IOHandles | \u001b[38;5;28;01mNone\u001b[39;00m = \u001b[38;5;28;01mNone\u001b[39;00m\n\u001b[32m-> \u001b[39m\u001b[32m1620\u001b[39m \u001b[38;5;28mself\u001b[39m._engine = \u001b[38;5;28;43mself\u001b[39;49m\u001b[43m.\u001b[49m\u001b[43m_make_engine\u001b[49m\u001b[43m(\u001b[49m\u001b[43mf\u001b[49m\u001b[43m,\u001b[49m\u001b[43m \u001b[49m\u001b[38;5;28;43mself\u001b[39;49m\u001b[43m.\u001b[49m\u001b[43mengine\u001b[49m\u001b[43m)\u001b[49m\n",
      "\u001b[36mFile \u001b[39m\u001b[32m~\\Desktop\\Ironhack\\Week_4\\Project\\first_project\\.venv\\Lib\\site-packages\\pandas\\io\\parsers\\readers.py:1880\u001b[39m, in \u001b[36mTextFileReader._make_engine\u001b[39m\u001b[34m(self, f, engine)\u001b[39m\n\u001b[32m   1878\u001b[39m     \u001b[38;5;28;01mif\u001b[39;00m \u001b[33m\"\u001b[39m\u001b[33mb\u001b[39m\u001b[33m\"\u001b[39m \u001b[38;5;129;01mnot\u001b[39;00m \u001b[38;5;129;01min\u001b[39;00m mode:\n\u001b[32m   1879\u001b[39m         mode += \u001b[33m\"\u001b[39m\u001b[33mb\u001b[39m\u001b[33m\"\u001b[39m\n\u001b[32m-> \u001b[39m\u001b[32m1880\u001b[39m \u001b[38;5;28mself\u001b[39m.handles = \u001b[43mget_handle\u001b[49m\u001b[43m(\u001b[49m\n\u001b[32m   1881\u001b[39m \u001b[43m    \u001b[49m\u001b[43mf\u001b[49m\u001b[43m,\u001b[49m\n\u001b[32m   1882\u001b[39m \u001b[43m    \u001b[49m\u001b[43mmode\u001b[49m\u001b[43m,\u001b[49m\n\u001b[32m   1883\u001b[39m \u001b[43m    \u001b[49m\u001b[43mencoding\u001b[49m\u001b[43m=\u001b[49m\u001b[38;5;28;43mself\u001b[39;49m\u001b[43m.\u001b[49m\u001b[43moptions\u001b[49m\u001b[43m.\u001b[49m\u001b[43mget\u001b[49m\u001b[43m(\u001b[49m\u001b[33;43m\"\u001b[39;49m\u001b[33;43mencoding\u001b[39;49m\u001b[33;43m\"\u001b[39;49m\u001b[43m,\u001b[49m\u001b[43m \u001b[49m\u001b[38;5;28;43;01mNone\u001b[39;49;00m\u001b[43m)\u001b[49m\u001b[43m,\u001b[49m\n\u001b[32m   1884\u001b[39m \u001b[43m    \u001b[49m\u001b[43mcompression\u001b[49m\u001b[43m=\u001b[49m\u001b[38;5;28;43mself\u001b[39;49m\u001b[43m.\u001b[49m\u001b[43moptions\u001b[49m\u001b[43m.\u001b[49m\u001b[43mget\u001b[49m\u001b[43m(\u001b[49m\u001b[33;43m\"\u001b[39;49m\u001b[33;43mcompression\u001b[39;49m\u001b[33;43m\"\u001b[39;49m\u001b[43m,\u001b[49m\u001b[43m \u001b[49m\u001b[38;5;28;43;01mNone\u001b[39;49;00m\u001b[43m)\u001b[49m\u001b[43m,\u001b[49m\n\u001b[32m   1885\u001b[39m \u001b[43m    \u001b[49m\u001b[43mmemory_map\u001b[49m\u001b[43m=\u001b[49m\u001b[38;5;28;43mself\u001b[39;49m\u001b[43m.\u001b[49m\u001b[43moptions\u001b[49m\u001b[43m.\u001b[49m\u001b[43mget\u001b[49m\u001b[43m(\u001b[49m\u001b[33;43m\"\u001b[39;49m\u001b[33;43mmemory_map\u001b[39;49m\u001b[33;43m\"\u001b[39;49m\u001b[43m,\u001b[49m\u001b[43m \u001b[49m\u001b[38;5;28;43;01mFalse\u001b[39;49;00m\u001b[43m)\u001b[49m\u001b[43m,\u001b[49m\n\u001b[32m   1886\u001b[39m \u001b[43m    \u001b[49m\u001b[43mis_text\u001b[49m\u001b[43m=\u001b[49m\u001b[43mis_text\u001b[49m\u001b[43m,\u001b[49m\n\u001b[32m   1887\u001b[39m \u001b[43m    \u001b[49m\u001b[43merrors\u001b[49m\u001b[43m=\u001b[49m\u001b[38;5;28;43mself\u001b[39;49m\u001b[43m.\u001b[49m\u001b[43moptions\u001b[49m\u001b[43m.\u001b[49m\u001b[43mget\u001b[49m\u001b[43m(\u001b[49m\u001b[33;43m\"\u001b[39;49m\u001b[33;43mencoding_errors\u001b[39;49m\u001b[33;43m\"\u001b[39;49m\u001b[43m,\u001b[49m\u001b[43m \u001b[49m\u001b[33;43m\"\u001b[39;49m\u001b[33;43mstrict\u001b[39;49m\u001b[33;43m\"\u001b[39;49m\u001b[43m)\u001b[49m\u001b[43m,\u001b[49m\n\u001b[32m   1888\u001b[39m \u001b[43m    \u001b[49m\u001b[43mstorage_options\u001b[49m\u001b[43m=\u001b[49m\u001b[38;5;28;43mself\u001b[39;49m\u001b[43m.\u001b[49m\u001b[43moptions\u001b[49m\u001b[43m.\u001b[49m\u001b[43mget\u001b[49m\u001b[43m(\u001b[49m\u001b[33;43m\"\u001b[39;49m\u001b[33;43mstorage_options\u001b[39;49m\u001b[33;43m\"\u001b[39;49m\u001b[43m,\u001b[49m\u001b[43m \u001b[49m\u001b[38;5;28;43;01mNone\u001b[39;49;00m\u001b[43m)\u001b[49m\u001b[43m,\u001b[49m\n\u001b[32m   1889\u001b[39m \u001b[43m\u001b[49m\u001b[43m)\u001b[49m\n\u001b[32m   1890\u001b[39m \u001b[38;5;28;01massert\u001b[39;00m \u001b[38;5;28mself\u001b[39m.handles \u001b[38;5;129;01mis\u001b[39;00m \u001b[38;5;129;01mnot\u001b[39;00m \u001b[38;5;28;01mNone\u001b[39;00m\n\u001b[32m   1891\u001b[39m f = \u001b[38;5;28mself\u001b[39m.handles.handle\n",
      "\u001b[36mFile \u001b[39m\u001b[32m~\\Desktop\\Ironhack\\Week_4\\Project\\first_project\\.venv\\Lib\\site-packages\\pandas\\io\\common.py:873\u001b[39m, in \u001b[36mget_handle\u001b[39m\u001b[34m(path_or_buf, mode, encoding, compression, memory_map, is_text, errors, storage_options)\u001b[39m\n\u001b[32m    868\u001b[39m \u001b[38;5;28;01melif\u001b[39;00m \u001b[38;5;28misinstance\u001b[39m(handle, \u001b[38;5;28mstr\u001b[39m):\n\u001b[32m    869\u001b[39m     \u001b[38;5;66;03m# Check whether the filename is to be opened in binary mode.\u001b[39;00m\n\u001b[32m    870\u001b[39m     \u001b[38;5;66;03m# Binary mode does not support 'encoding' and 'newline'.\u001b[39;00m\n\u001b[32m    871\u001b[39m     \u001b[38;5;28;01mif\u001b[39;00m ioargs.encoding \u001b[38;5;129;01mand\u001b[39;00m \u001b[33m\"\u001b[39m\u001b[33mb\u001b[39m\u001b[33m\"\u001b[39m \u001b[38;5;129;01mnot\u001b[39;00m \u001b[38;5;129;01min\u001b[39;00m ioargs.mode:\n\u001b[32m    872\u001b[39m         \u001b[38;5;66;03m# Encoding\u001b[39;00m\n\u001b[32m--> \u001b[39m\u001b[32m873\u001b[39m         handle = \u001b[38;5;28;43mopen\u001b[39;49m\u001b[43m(\u001b[49m\n\u001b[32m    874\u001b[39m \u001b[43m            \u001b[49m\u001b[43mhandle\u001b[49m\u001b[43m,\u001b[49m\n\u001b[32m    875\u001b[39m \u001b[43m            \u001b[49m\u001b[43mioargs\u001b[49m\u001b[43m.\u001b[49m\u001b[43mmode\u001b[49m\u001b[43m,\u001b[49m\n\u001b[32m    876\u001b[39m \u001b[43m            \u001b[49m\u001b[43mencoding\u001b[49m\u001b[43m=\u001b[49m\u001b[43mioargs\u001b[49m\u001b[43m.\u001b[49m\u001b[43mencoding\u001b[49m\u001b[43m,\u001b[49m\n\u001b[32m    877\u001b[39m \u001b[43m            \u001b[49m\u001b[43merrors\u001b[49m\u001b[43m=\u001b[49m\u001b[43merrors\u001b[49m\u001b[43m,\u001b[49m\n\u001b[32m    878\u001b[39m \u001b[43m            \u001b[49m\u001b[43mnewline\u001b[49m\u001b[43m=\u001b[49m\u001b[33;43m\"\u001b[39;49m\u001b[33;43m\"\u001b[39;49m\u001b[43m,\u001b[49m\n\u001b[32m    879\u001b[39m \u001b[43m        \u001b[49m\u001b[43m)\u001b[49m\n\u001b[32m    880\u001b[39m     \u001b[38;5;28;01melse\u001b[39;00m:\n\u001b[32m    881\u001b[39m         \u001b[38;5;66;03m# Binary mode\u001b[39;00m\n\u001b[32m    882\u001b[39m         handle = \u001b[38;5;28mopen\u001b[39m(handle, ioargs.mode)\n",
      "\u001b[31mFileNotFoundError\u001b[39m: [Errno 2] No such file or directory: 'C:\\\\Users\\\\User\\\\Desktop\\\\IronHack\\\\Week_4\\\\Project\\\\first_project\\\\data\\\\raw\\\\ai_job_dataset.csv'"
     ]
    }
   ],
   "source": [
    "ai_job = pd.read_csv(r\"C:\\Users\\User\\Desktop\\IronHack\\Week_4\\Project\\first_project\\data\\raw\\ai_job_dataset.csv\")"
   ]
  },
  {
   "cell_type": "code",
   "execution_count": null,
   "id": "50580f8b-df2e-4fcd-92ea-408ae07705d5",
   "metadata": {},
   "outputs": [],
   "source": [
    "ai_job.head()"
   ]
  },
  {
   "cell_type": "code",
   "execution_count": 14,
   "id": "44ddd25e-1abf-4e02-820b-ef37a225eab2",
   "metadata": {},
   "outputs": [
    {
     "data": {
      "text/plain": [
       "(15000, 19)"
      ]
     },
     "execution_count": 14,
     "metadata": {},
     "output_type": "execute_result"
    }
   ],
   "source": [
    "ai_job.shape"
   ]
  },
  {
   "cell_type": "code",
   "execution_count": 13,
   "id": "e950a322-c1b9-4b10-a3cb-8f065f9c9658",
   "metadata": {},
   "outputs": [
    {
     "data": {
      "text/plain": [
       "False    15000\n",
       "Name: count, dtype: int64"
      ]
     },
     "execution_count": 13,
     "metadata": {},
     "output_type": "execute_result"
    }
   ],
   "source": [
    "ai_job.duplicated().value_counts()"
   ]
  },
  {
   "cell_type": "code",
   "execution_count": 89,
   "id": "72ded5a3-7614-4a8c-a2f9-bef3ac7a3286",
   "metadata": {},
   "outputs": [
    {
     "data": {
      "text/plain": [
       "Index(['job_id', 'job_title', 'salary_usd', 'salary_currency',\n",
       "       'experience_level', 'employment_type', 'company_location',\n",
       "       'company_size', 'employee_residence', 'remote_ratio', 'required_skills',\n",
       "       'education_required', 'years_experience', 'industry', 'posting_date',\n",
       "       'application_deadline', 'job_description_length', 'benefits_score',\n",
       "       'company_name'],\n",
       "      dtype='object')"
      ]
     },
     "execution_count": 89,
     "metadata": {},
     "output_type": "execute_result"
    }
   ],
   "source": [
    "ai_job.columns"
   ]
  },
  {
   "cell_type": "code",
   "execution_count": 17,
   "id": "a7c1edb9-1ff1-47ca-88bf-e11860636b41",
   "metadata": {},
   "outputs": [
    {
     "name": "stdout",
     "output_type": "stream",
     "text": [
      "<class 'pandas.core.frame.DataFrame'>\n",
      "RangeIndex: 15000 entries, 0 to 14999\n",
      "Data columns (total 19 columns):\n",
      " #   Column                  Non-Null Count  Dtype  \n",
      "---  ------                  --------------  -----  \n",
      " 0   job_id                  15000 non-null  object \n",
      " 1   job_title               15000 non-null  object \n",
      " 2   salary_usd              15000 non-null  int64  \n",
      " 3   salary_currency         15000 non-null  object \n",
      " 4   experience_level        15000 non-null  object \n",
      " 5   employment_type         15000 non-null  object \n",
      " 6   company_location        15000 non-null  object \n",
      " 7   company_size            15000 non-null  object \n",
      " 8   employee_residence      15000 non-null  object \n",
      " 9   remote_ratio            15000 non-null  int64  \n",
      " 10  required_skills         15000 non-null  object \n",
      " 11  education_required      15000 non-null  object \n",
      " 12  years_experience        15000 non-null  int64  \n",
      " 13  industry                15000 non-null  object \n",
      " 14  posting_date            15000 non-null  object \n",
      " 15  application_deadline    15000 non-null  object \n",
      " 16  job_description_length  15000 non-null  int64  \n",
      " 17  benefits_score          15000 non-null  float64\n",
      " 18  company_name            15000 non-null  object \n",
      "dtypes: float64(1), int64(4), object(14)\n",
      "memory usage: 2.2+ MB\n"
     ]
    }
   ],
   "source": [
    "ai_job.info()"
   ]
  },
  {
   "cell_type": "code",
   "execution_count": 18,
   "id": "8f0c2e1b-a0ce-4966-9137-a17f9773054f",
   "metadata": {},
   "outputs": [
    {
     "data": {
      "text/html": [
       "<div>\n",
       "<style scoped>\n",
       "    .dataframe tbody tr th:only-of-type {\n",
       "        vertical-align: middle;\n",
       "    }\n",
       "\n",
       "    .dataframe tbody tr th {\n",
       "        vertical-align: top;\n",
       "    }\n",
       "\n",
       "    .dataframe thead th {\n",
       "        text-align: right;\n",
       "    }\n",
       "</style>\n",
       "<table border=\"1\" class=\"dataframe\">\n",
       "  <thead>\n",
       "    <tr style=\"text-align: right;\">\n",
       "      <th></th>\n",
       "      <th>salary_usd</th>\n",
       "      <th>remote_ratio</th>\n",
       "      <th>years_experience</th>\n",
       "      <th>job_description_length</th>\n",
       "      <th>benefits_score</th>\n",
       "    </tr>\n",
       "  </thead>\n",
       "  <tbody>\n",
       "    <tr>\n",
       "      <th>count</th>\n",
       "      <td>15000.000000</td>\n",
       "      <td>15000.000000</td>\n",
       "      <td>15000.000000</td>\n",
       "      <td>15000.000000</td>\n",
       "      <td>15000.000000</td>\n",
       "    </tr>\n",
       "    <tr>\n",
       "      <th>mean</th>\n",
       "      <td>115348.965133</td>\n",
       "      <td>49.483333</td>\n",
       "      <td>6.253200</td>\n",
       "      <td>1503.314733</td>\n",
       "      <td>7.504273</td>\n",
       "    </tr>\n",
       "    <tr>\n",
       "      <th>std</th>\n",
       "      <td>60260.940438</td>\n",
       "      <td>40.812712</td>\n",
       "      <td>5.545768</td>\n",
       "      <td>576.127083</td>\n",
       "      <td>1.450870</td>\n",
       "    </tr>\n",
       "    <tr>\n",
       "      <th>min</th>\n",
       "      <td>32519.000000</td>\n",
       "      <td>0.000000</td>\n",
       "      <td>0.000000</td>\n",
       "      <td>500.000000</td>\n",
       "      <td>5.000000</td>\n",
       "    </tr>\n",
       "    <tr>\n",
       "      <th>25%</th>\n",
       "      <td>70179.750000</td>\n",
       "      <td>0.000000</td>\n",
       "      <td>2.000000</td>\n",
       "      <td>1003.750000</td>\n",
       "      <td>6.200000</td>\n",
       "    </tr>\n",
       "    <tr>\n",
       "      <th>50%</th>\n",
       "      <td>99705.000000</td>\n",
       "      <td>50.000000</td>\n",
       "      <td>5.000000</td>\n",
       "      <td>1512.000000</td>\n",
       "      <td>7.500000</td>\n",
       "    </tr>\n",
       "    <tr>\n",
       "      <th>75%</th>\n",
       "      <td>146408.500000</td>\n",
       "      <td>100.000000</td>\n",
       "      <td>10.000000</td>\n",
       "      <td>2000.000000</td>\n",
       "      <td>8.800000</td>\n",
       "    </tr>\n",
       "    <tr>\n",
       "      <th>max</th>\n",
       "      <td>399095.000000</td>\n",
       "      <td>100.000000</td>\n",
       "      <td>19.000000</td>\n",
       "      <td>2499.000000</td>\n",
       "      <td>10.000000</td>\n",
       "    </tr>\n",
       "  </tbody>\n",
       "</table>\n",
       "</div>"
      ],
      "text/plain": [
       "          salary_usd  remote_ratio  years_experience  job_description_length  \\\n",
       "count   15000.000000  15000.000000      15000.000000            15000.000000   \n",
       "mean   115348.965133     49.483333          6.253200             1503.314733   \n",
       "std     60260.940438     40.812712          5.545768              576.127083   \n",
       "min     32519.000000      0.000000          0.000000              500.000000   \n",
       "25%     70179.750000      0.000000          2.000000             1003.750000   \n",
       "50%     99705.000000     50.000000          5.000000             1512.000000   \n",
       "75%    146408.500000    100.000000         10.000000             2000.000000   \n",
       "max    399095.000000    100.000000         19.000000             2499.000000   \n",
       "\n",
       "       benefits_score  \n",
       "count    15000.000000  \n",
       "mean         7.504273  \n",
       "std          1.450870  \n",
       "min          5.000000  \n",
       "25%          6.200000  \n",
       "50%          7.500000  \n",
       "75%          8.800000  \n",
       "max         10.000000  "
      ]
     },
     "execution_count": 18,
     "metadata": {},
     "output_type": "execute_result"
    }
   ],
   "source": [
    "ai_job.describe()"
   ]
  },
  {
   "cell_type": "code",
   "execution_count": 31,
   "id": "b5549a5b-5184-42f0-b8f2-0f960c44c3d3",
   "metadata": {},
   "outputs": [
    {
     "data": {
      "text/plain": [
       "20"
      ]
     },
     "execution_count": 31,
     "metadata": {},
     "output_type": "execute_result"
    }
   ],
   "source": [
    "ai_job['company_location'].nunique()"
   ]
  },
  {
   "cell_type": "code",
   "execution_count": null,
   "id": "28493d9a-707b-46f6-8f58-821f28da00fb",
   "metadata": {},
   "outputs": [],
   "source": [
    "import seaborn as sns\n",
    "import matplotlib.pyplot as plt \n",
    "import matplotlib.cm"
   ]
  },
  {
   "cell_type": "code",
   "execution_count": 163,
   "id": "0ee9cc88-84e3-47e2-8dce-99bf312fe6ea",
   "metadata": {},
   "outputs": [
    {
     "data": {
      "text/plain": [
       "20"
      ]
     },
     "execution_count": 163,
     "metadata": {},
     "output_type": "execute_result"
    }
   ],
   "source": [
    "ai_job['job_title'].nunique()"
   ]
  },
  {
   "cell_type": "code",
   "execution_count": 120,
   "id": "03d97fba-ae38-467f-857f-a3a2d65d80e4",
   "metadata": {},
   "outputs": [
    {
     "data": {
      "text/plain": [
       "486"
      ]
     },
     "execution_count": 120,
     "metadata": {},
     "output_type": "execute_result"
    }
   ],
   "source": [
    "ai_job['posting_date'].nunique()"
   ]
  },
  {
   "cell_type": "code",
   "execution_count": null,
   "id": "9ac66107-fbbc-4b07-b91d-7a9c92321581",
   "metadata": {},
   "outputs": [],
   "source": [
    "# Time of the year with more job postings."
   ]
  },
  {
   "cell_type": "code",
   "execution_count": null,
   "id": "9c9aa27b-3103-4f70-bb59-0de3374c2a09",
   "metadata": {},
   "outputs": [],
   "source": [
    "# posting_date\t\n",
    "# job title\n"
   ]
  },
  {
   "cell_type": "code",
   "execution_count": 134,
   "id": "04725f01-a4a9-4f4c-a835-d7029964333d",
   "metadata": {},
   "outputs": [
    {
     "data": {
      "text/plain": [
       "job_title\n",
       "Machine Learning Researcher    808\n",
       "AI Software Engineer           784\n",
       "Autonomous Systems Engineer    777\n",
       "Machine Learning Engineer      772\n",
       "AI Architect                   771\n",
       "Head of AI                     765\n",
       "NLP Engineer                   762\n",
       "Robotics Engineer              759\n",
       "Data Analyst                   759\n",
       "AI Research Scientist          756\n",
       "Data Engineer                  749\n",
       "AI Product Manager             743\n",
       "Research Scientist             742\n",
       "Principal Data Scientist       734\n",
       "AI Specialist                  728\n",
       "ML Ops Engineer                725\n",
       "Computer Vision Engineer       724\n",
       "Data Scientist                 720\n",
       "Deep Learning Engineer         718\n",
       "AI Consultant                  704\n",
       "Name: count, dtype: int64"
      ]
     },
     "execution_count": 134,
     "metadata": {},
     "output_type": "execute_result"
    }
   ],
   "source": [
    "ai_job['job_title'].value_counts()"
   ]
  },
  {
   "cell_type": "code",
   "execution_count": 128,
   "id": "758bcc78-a7f3-472a-98b1-75bfcaf124af",
   "metadata": {},
   "outputs": [],
   "source": [
    "ai_job['month'] = ai_job['posting_date'].str[5:7]"
   ]
  },
  {
   "cell_type": "code",
   "execution_count": 152,
   "id": "9a57e0b7-f9a4-4f82-9b4d-48cadf815bc6",
   "metadata": {},
   "outputs": [],
   "source": [
    "count_date_title = ai_job.groupby('month')['job_title'].count().reset_index()"
   ]
  },
  {
   "cell_type": "code",
   "execution_count": 153,
   "id": "8ac74deb-c2ed-4cd6-be0c-5cd6d6b203ce",
   "metadata": {},
   "outputs": [
    {
     "data": {
      "image/png": "[encoded data removed]",
      "text/plain": [
       "<Figure size 640x480 with 1 Axes>"
      ]
     },
     "metadata": {},
     "output_type": "display_data"
    }
   ],
   "source": [
    "sns.barplot(x='job_title', y='month',hue='month', data=count_date_title,width=0.6,palette='viridis')\n",
    "plt.title('Count of job_title by month')\n",
    "plt.xticks(rotation=45, ha='right')\n",
    "plt.tight_layout()\n",
    "plt.show()"
   ]
  },
  {
   "cell_type": "code",
   "execution_count": 180,
   "id": "a5cd25fb-8556-4e29-a24c-db09ebb26ef5",
   "metadata": {},
   "outputs": [],
   "source": [
    "data_analyst = ai_job[ai_job['job_title'] == 'Data Analyst']"
   ]
  },
  {
   "cell_type": "code",
   "execution_count": 183,
   "id": "44ea53b1-beeb-4934-b626-1711c4873d28",
   "metadata": {},
   "outputs": [],
   "source": [
    "count_title_date = data_analyst.groupby('month')['job_title'].value_counts().reset_index()"
   ]
  },
  {
   "cell_type": "code",
   "execution_count": 197,
   "id": "9ad7e6a4-b177-4a4a-8a15-645e100e0c14",
   "metadata": {},
   "outputs": [
    {
     "data": {
      "image/png": "[encoded data removed]",
      "text/plain": [
       "<Figure size 640x480 with 1 Axes>"
      ]
     },
     "metadata": {},
     "output_type": "display_data"
    }
   ],
   "source": [
    "sns.barplot(x='month', y='count',hue='job_title', data=count_title_date,width=0.6,palette='viridis')\n",
    "plt.title('Count of data analyst jobs by month')\n",
    "plt.xticks(rotation=45, ha='right')\n",
    "plt.tight_layout()\n",
    "plt.show()"
   ]
  },
  {
   "cell_type": "code",
   "execution_count": 208,
   "id": "6b65454a-691e-4710-9df0-b07512b78181",
   "metadata": {},
   "outputs": [],
   "source": [
    "count_title = [ai_job['job_title'].value_counts()]"
   ]
  },
  {
   "cell_type": "code",
   "execution_count": 209,
   "id": "ef4ff829-d364-4d0f-87ba-0a28b9cbf8b5",
   "metadata": {},
   "outputs": [
    {
     "data": {
      "text/plain": [
       "[job_title\n",
       " Machine Learning Researcher    808\n",
       " AI Software Engineer           784\n",
       " Autonomous Systems Engineer    777\n",
       " Machine Learning Engineer      772\n",
       " AI Architect                   771\n",
       " Head of AI                     765\n",
       " NLP Engineer                   762\n",
       " Robotics Engineer              759\n",
       " Data Analyst                   759\n",
       " AI Research Scientist          756\n",
       " Data Engineer                  749\n",
       " AI Product Manager             743\n",
       " Research Scientist             742\n",
       " Principal Data Scientist       734\n",
       " AI Specialist                  728\n",
       " ML Ops Engineer                725\n",
       " Computer Vision Engineer       724\n",
       " Data Scientist                 720\n",
       " Deep Learning Engineer         718\n",
       " AI Consultant                  704\n",
       " Name: count, dtype: int64]"
      ]
     },
     "execution_count": 209,
     "metadata": {},
     "output_type": "execute_result"
    }
   ],
   "source": [
    "count_title"
   ]
  },
  {
   "cell_type": "code",
   "execution_count": 66,
   "id": "6c9cacc6-d4c8-4789-bfc9-06c63c4b8d2c",
   "metadata": {},
   "outputs": [
    {
     "data": {
      "text/plain": [
       "15"
      ]
     },
     "execution_count": 66,
     "metadata": {},
     "output_type": "execute_result"
    }
   ],
   "source": [
    "ai_job['industry'].nunique()"
   ]
  },
  {
   "cell_type": "code",
   "execution_count": 67,
   "id": "b07a5fda-da9c-4948-810c-9f2aff4237a3",
   "metadata": {},
   "outputs": [],
   "source": [
    "mean_industry_benefit = ai_job.groupby('industry')['benefits_score'].mean().reset_index()"
   ]
  },
  {
   "cell_type": "code",
   "execution_count": 213,
   "id": "e7bab33c-49a6-4dc2-b27a-bfc92cf35261",
   "metadata": {},
   "outputs": [
    {
     "ename": "ValueError",
     "evalue": "Invalid frequency: month, failed to parse with error message: ValueError(\"Invalid frequency: MONTH, failed to parse with error message: KeyError('MONTH')\")",
     "output_type": "error",
     "traceback": [
      "\u001b[31m---------------------------------------------------------------------------\u001b[39m",
      "\u001b[31mKeyError\u001b[39m                                  Traceback (most recent call last)",
      "\u001b[36mFile \u001b[39m\u001b[32mpandas/_libs/tslibs/offsets.pyx:4776\u001b[39m, in \u001b[36mpandas._libs.tslibs.offsets._get_offset\u001b[39m\u001b[34m()\u001b[39m\n",
      "\u001b[31mKeyError\u001b[39m: 'MONTH'",
      "\nDuring handling of the above exception, another exception occurred:\n",
      "\u001b[31mValueError\u001b[39m                                Traceback (most recent call last)",
      "\u001b[36mFile \u001b[39m\u001b[32mpandas/_libs/tslibs/offsets.pyx:4946\u001b[39m, in \u001b[36mpandas._libs.tslibs.offsets.to_offset\u001b[39m\u001b[34m()\u001b[39m\n",
      "\u001b[36mFile \u001b[39m\u001b[32mpandas/_libs/tslibs/offsets.pyx:4782\u001b[39m, in \u001b[36mpandas._libs.tslibs.offsets._get_offset\u001b[39m\u001b[34m()\u001b[39m\n",
      "\u001b[31mValueError\u001b[39m: Invalid frequency: MONTH, failed to parse with error message: KeyError('MONTH')",
      "\nDuring handling of the above exception, another exception occurred:\n",
      "\u001b[31mValueError\u001b[39m                                Traceback (most recent call last)",
      "\u001b[36mCell\u001b[39m\u001b[36m \u001b[39m\u001b[32mIn[213]\u001b[39m\u001b[32m, line 1\u001b[39m\n\u001b[32m----> \u001b[39m\u001b[32m1\u001b[39m monthly_postings = \u001b[43mai_job\u001b[49m\u001b[43m.\u001b[49m\u001b[43mresample\u001b[49m\u001b[43m(\u001b[49m\u001b[33;43m'\u001b[39;49m\u001b[33;43mmonth\u001b[39;49m\u001b[33;43m'\u001b[39;49m\u001b[43m,\u001b[49m\u001b[43m \u001b[49m\u001b[43mon\u001b[49m\u001b[43m=\u001b[49m\u001b[33;43m'\u001b[39;49m\u001b[33;43mposting_date\u001b[39;49m\u001b[33;43m'\u001b[39;49m\u001b[43m)\u001b[49m[\u001b[33m'\u001b[39m\u001b[33mjob_id\u001b[39m\u001b[33m'\u001b[39m].count()\n\u001b[32m      2\u001b[39m monthly_postings.plot()\n\u001b[32m      3\u001b[39m plt.title(\u001b[33m'\u001b[39m\u001b[33mJob Postings Over Time\u001b[39m\u001b[33m'\u001b[39m)\n",
      "\u001b[36mFile \u001b[39m\u001b[32m~\\Desktop\\Ironhack\\Week_4\\Project\\first_project\\.venv\\Lib\\site-packages\\pandas\\core\\generic.py:9790\u001b[39m, in \u001b[36mNDFrame.resample\u001b[39m\u001b[34m(self, rule, axis, closed, label, convention, kind, on, level, origin, offset, group_keys)\u001b[39m\n\u001b[32m   9787\u001b[39m \u001b[38;5;28;01melse\u001b[39;00m:\n\u001b[32m   9788\u001b[39m     convention = \u001b[33m\"\u001b[39m\u001b[33mstart\u001b[39m\u001b[33m\"\u001b[39m\n\u001b[32m-> \u001b[39m\u001b[32m9790\u001b[39m \u001b[38;5;28;01mreturn\u001b[39;00m \u001b[43mget_resampler\u001b[49m\u001b[43m(\u001b[49m\n\u001b[32m   9791\u001b[39m \u001b[43m    \u001b[49m\u001b[43mcast\u001b[49m\u001b[43m(\u001b[49m\u001b[33;43m\"\u001b[39;49m\u001b[33;43mSeries | DataFrame\u001b[39;49m\u001b[33;43m\"\u001b[39;49m\u001b[43m,\u001b[49m\u001b[43m \u001b[49m\u001b[38;5;28;43mself\u001b[39;49m\u001b[43m)\u001b[49m\u001b[43m,\u001b[49m\n\u001b[32m   9792\u001b[39m \u001b[43m    \u001b[49m\u001b[43mfreq\u001b[49m\u001b[43m=\u001b[49m\u001b[43mrule\u001b[49m\u001b[43m,\u001b[49m\n\u001b[32m   9793\u001b[39m \u001b[43m    \u001b[49m\u001b[43mlabel\u001b[49m\u001b[43m=\u001b[49m\u001b[43mlabel\u001b[49m\u001b[43m,\u001b[49m\n\u001b[32m   9794\u001b[39m \u001b[43m    \u001b[49m\u001b[43mclosed\u001b[49m\u001b[43m=\u001b[49m\u001b[43mclosed\u001b[49m\u001b[43m,\u001b[49m\n\u001b[32m   9795\u001b[39m \u001b[43m    \u001b[49m\u001b[43maxis\u001b[49m\u001b[43m=\u001b[49m\u001b[43maxis\u001b[49m\u001b[43m,\u001b[49m\n\u001b[32m   9796\u001b[39m \u001b[43m    \u001b[49m\u001b[43mkind\u001b[49m\u001b[43m=\u001b[49m\u001b[43mkind\u001b[49m\u001b[43m,\u001b[49m\n\u001b[32m   9797\u001b[39m \u001b[43m    \u001b[49m\u001b[43mconvention\u001b[49m\u001b[43m=\u001b[49m\u001b[43mconvention\u001b[49m\u001b[43m,\u001b[49m\n\u001b[32m   9798\u001b[39m \u001b[43m    \u001b[49m\u001b[43mkey\u001b[49m\u001b[43m=\u001b[49m\u001b[43mon\u001b[49m\u001b[43m,\u001b[49m\n\u001b[32m   9799\u001b[39m \u001b[43m    \u001b[49m\u001b[43mlevel\u001b[49m\u001b[43m=\u001b[49m\u001b[43mlevel\u001b[49m\u001b[43m,\u001b[49m\n\u001b[32m   9800\u001b[39m \u001b[43m    \u001b[49m\u001b[43morigin\u001b[49m\u001b[43m=\u001b[49m\u001b[43morigin\u001b[49m\u001b[43m,\u001b[49m\n\u001b[32m   9801\u001b[39m \u001b[43m    \u001b[49m\u001b[43moffset\u001b[49m\u001b[43m=\u001b[49m\u001b[43moffset\u001b[49m\u001b[43m,\u001b[49m\n\u001b[32m   9802\u001b[39m \u001b[43m    \u001b[49m\u001b[43mgroup_keys\u001b[49m\u001b[43m=\u001b[49m\u001b[43mgroup_keys\u001b[49m\u001b[43m,\u001b[49m\n\u001b[32m   9803\u001b[39m \u001b[43m\u001b[49m\u001b[43m)\u001b[49m\n",
      "\u001b[36mFile \u001b[39m\u001b[32m~\\Desktop\\Ironhack\\Week_4\\Project\\first_project\\.venv\\Lib\\site-packages\\pandas\\core\\resample.py:2049\u001b[39m, in \u001b[36mget_resampler\u001b[39m\u001b[34m(obj, kind, **kwds)\u001b[39m\n\u001b[32m   2045\u001b[39m \u001b[38;5;28;01mdef\u001b[39;00m\u001b[38;5;250m \u001b[39m\u001b[34mget_resampler\u001b[39m(obj: Series | DataFrame, kind=\u001b[38;5;28;01mNone\u001b[39;00m, **kwds) -> Resampler:\n\u001b[32m   2046\u001b[39m \u001b[38;5;250m    \u001b[39m\u001b[33;03m\"\"\"\u001b[39;00m\n\u001b[32m   2047\u001b[39m \u001b[33;03m    Create a TimeGrouper and return our resampler.\u001b[39;00m\n\u001b[32m   2048\u001b[39m \u001b[33;03m    \"\"\"\u001b[39;00m\n\u001b[32m-> \u001b[39m\u001b[32m2049\u001b[39m     tg = \u001b[43mTimeGrouper\u001b[49m\u001b[43m(\u001b[49m\u001b[43mobj\u001b[49m\u001b[43m,\u001b[49m\u001b[43m \u001b[49m\u001b[43m*\u001b[49m\u001b[43m*\u001b[49m\u001b[43mkwds\u001b[49m\u001b[43m)\u001b[49m  \u001b[38;5;66;03m# type: ignore[arg-type]\u001b[39;00m\n\u001b[32m   2050\u001b[39m     \u001b[38;5;28;01mreturn\u001b[39;00m tg._get_resampler(obj, kind=kind)\n",
      "\u001b[36mFile \u001b[39m\u001b[32m~\\Desktop\\Ironhack\\Week_4\\Project\\first_project\\.venv\\Lib\\site-packages\\pandas\\core\\resample.py:2143\u001b[39m, in \u001b[36mTimeGrouper.__init__\u001b[39m\u001b[34m(self, obj, freq, key, closed, label, how, axis, fill_method, limit, kind, convention, origin, offset, group_keys, **kwargs)\u001b[39m\n\u001b[32m   2141\u001b[39m     freq = to_offset(freq, is_period=\u001b[38;5;28;01mTrue\u001b[39;00m)\n\u001b[32m   2142\u001b[39m \u001b[38;5;28;01melse\u001b[39;00m:\n\u001b[32m-> \u001b[39m\u001b[32m2143\u001b[39m     freq = \u001b[43mto_offset\u001b[49m\u001b[43m(\u001b[49m\u001b[43mfreq\u001b[49m\u001b[43m)\u001b[49m\n\u001b[32m   2145\u001b[39m end_types = {\u001b[33m\"\u001b[39m\u001b[33mME\u001b[39m\u001b[33m\"\u001b[39m, \u001b[33m\"\u001b[39m\u001b[33mYE\u001b[39m\u001b[33m\"\u001b[39m, \u001b[33m\"\u001b[39m\u001b[33mQE\u001b[39m\u001b[33m\"\u001b[39m, \u001b[33m\"\u001b[39m\u001b[33mBME\u001b[39m\u001b[33m\"\u001b[39m, \u001b[33m\"\u001b[39m\u001b[33mBYE\u001b[39m\u001b[33m\"\u001b[39m, \u001b[33m\"\u001b[39m\u001b[33mBQE\u001b[39m\u001b[33m\"\u001b[39m, \u001b[33m\"\u001b[39m\u001b[33mW\u001b[39m\u001b[33m\"\u001b[39m}\n\u001b[32m   2146\u001b[39m rule = freq.rule_code\n",
      "\u001b[36mFile \u001b[39m\u001b[32mpandas/_libs/tslibs/offsets.pyx:4791\u001b[39m, in \u001b[36mpandas._libs.tslibs.offsets.to_offset\u001b[39m\u001b[34m()\u001b[39m\n",
      "\u001b[36mFile \u001b[39m\u001b[32mpandas/_libs/tslibs/offsets.pyx:4954\u001b[39m, in \u001b[36mpandas._libs.tslibs.offsets.to_offset\u001b[39m\u001b[34m()\u001b[39m\n",
      "\u001b[31mValueError\u001b[39m: Invalid frequency: month, failed to parse with error message: ValueError(\"Invalid frequency: MONTH, failed to parse with error message: KeyError('MONTH')\")"
     ]
    }
   ],
   "source": [
    "monthly_postings = ai_job.resample('month', on='posting_date')['job_id'].count()\n",
    "monthly_postings.plot()\n",
    "plt.title('Job Postings Over Time')\n",
    "plt.xlabel('Month')\n",
    "plt.ylabel('Number of Jobs Posted')\n",
    "plt.grid(True)\n",
    "plt.show()"
   ]
  },
  {
   "cell_type": "code",
   "execution_count": null,
   "id": "086a1d0b-20fe-4fae-945f-8e0d4c06b9ef",
   "metadata": {},
   "outputs": [],
   "source": []
  }
 ],
 "metadata": {
  "kernelspec": {
   "display_name": "venv",
   "language": "python",
   "name": "venv"
  },
  "language_info": {
   "codemirror_mode": {
    "name": "ipython",
    "version": 3
   },
   "file_extension": ".py",
   "mimetype": "text/x-python",
   "name": "python",
   "nbconvert_exporter": "python",
   "pygments_lexer": "ipython3",
   "version": "3.12.7"
  }
 },
 "nbformat": 4,
 "nbformat_minor": 5
}
